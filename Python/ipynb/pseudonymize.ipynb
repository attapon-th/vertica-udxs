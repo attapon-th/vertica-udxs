{
 "cells": [
  {
   "cell_type": "code",
   "execution_count": null,
   "metadata": {},
   "outputs": [],
   "source": [
    "import gocept.pseudonymize as ps"
   ]
  },
  {
   "cell_type": "code",
   "execution_count": null,
   "metadata": {},
   "outputs": [],
   "source": [
    "print(ps.integer(int(1234567890123), \"test\"))\n",
    "\n",
    "print(ps.text(\"1234567890123\", \"test\"))"
   ]
  },
  {
   "cell_type": "code",
   "execution_count": null,
   "metadata": {},
   "outputs": [],
   "source": [
    "print(ps.integer(int(8657908372816), \"test\"))"
   ]
  },
  {
   "cell_type": "code",
   "execution_count": null,
   "metadata": {},
   "outputs": [],
   "source": [
    "%%timeit -n 10\n",
    "from Crypto.Cipher import AES\n",
    "from Crypto.Hash import SHA256\n",
    "from base64 import urlsafe_b64encode, urlsafe_b64decode\n",
    "\n",
    "\n",
    "def compile_key(key: bytes | str) -> bytes:\n",
    "    if isinstance(key, str):\n",
    "        key = key.encode(\"utf-8\", errors=\"replace\")\n",
    "    return SHA256.new(key).digest()\n",
    "\n",
    "\n",
    "def encrypt(plaintext: str, secret_key: str, header_str: str = \"none_set\") -> str:\n",
    "    data: bytes = plaintext.encode(\"utf-8\")\n",
    "    header: bytes = header_str.encode(\"utf-8\")\n",
    "    key: bytes = compile_key(secret_key)\n",
    "    cipher = AES.new(key, AES.MODE_OCB)\n",
    "\n",
    "    cipher.update(header)\n",
    "    ciphertext, tag = cipher.encrypt_and_digest(data)\n",
    "    return \".\".join([urlsafe_b64encode(x).decode(\"ascii\") for x in (cipher.nonce, header, ciphertext, tag)])\n",
    "\n",
    "\n",
    "def decrypt(ciphertext: str, secret_key: str) -> str:\n",
    "    s: str = \"\"\n",
    "    try:\n",
    "        key: bytes = compile_key(secret_key)\n",
    "        jv = [urlsafe_b64decode(x.encode(\"ascii\")) for x in ciphertext.split(\".\")]\n",
    "        if len(jv) != 4:\n",
    "            raise ValueError\n",
    "        cipher = AES.new(key, AES.MODE_OCB, nonce=jv[0])\n",
    "        cipher.update(jv[1])\n",
    "        plaintext: bytes = cipher.decrypt_and_verify(jv[2], jv[3])\n",
    "        s = plaintext.decode(\"utf-8\", errors=\"replace\")\n",
    "    except (ValueError, KeyError):\n",
    "        print(\"Incorrect decryption\")\n",
    "    return s\n",
    "\n",
    "\n",
    "k = \"This is my secret message from 50&DAC เมษายน 2567\"\n",
    "e = encrypt(\"tesashdfklhe;lajndfklheoifnsakdhft\", k)\n",
    "print(e)\n",
    "\n",
    "d = decrypt(e, k)\n",
    "print(d)"
   ]
  },
  {
   "cell_type": "code",
   "execution_count": null,
   "metadata": {},
   "outputs": [],
   "source": [
    "import os"
   ]
  },
  {
   "cell_type": "code",
   "execution_count": 70,
   "metadata": {},
   "outputs": [
    {
     "name": "stdout",
     "output_type": "stream",
     "text": [
      "1.83 ms ± 63.5 µs per loop (mean ± std. dev. of 7 runs, 10 loops each)\n"
     ]
    }
   ],
   "source": [
    "%%timeit -n 10\n",
    "\n",
    "k = os.urandom(32).hex()\n",
    "e = encrypt(\"tesashdfklhe;lajndfklheoifnsakdhft\", k)\n",
    "d = decrypt(e, k)"
   ]
  },
  {
   "cell_type": "code",
   "execution_count": null,
   "metadata": {},
   "outputs": [],
   "source": [
    "key = \"This is my secret message from 50&DAC เมษายน 2567\".encode()\n",
    "\n",
    "\n",
    "print(compile_key(key))"
   ]
  }
 ],
 "metadata": {
  "kernelspec": {
   "display_name": "Python 3",
   "language": "python",
   "name": "python3"
  },
  "language_info": {
   "codemirror_mode": {
    "name": "ipython",
    "version": 3
   },
   "file_extension": ".py",
   "mimetype": "text/x-python",
   "name": "python",
   "nbconvert_exporter": "python",
   "pygments_lexer": "ipython3",
   "version": "3.12.2"
  }
 },
 "nbformat": 4,
 "nbformat_minor": 2
}
